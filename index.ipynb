{
 "cells": [
  {
   "cell_type": "markdown",
   "metadata": {
    "nbgrader": {
     "grade": false,
     "grade_id": "f039a88c3716bd97dece29a1983fe214",
     "locked": true,
     "schema_version": 3,
     "solution": false,
     "task": false
    }
   },
   "source": [
    "## Statistical Distributions"
   ]
  },
  {
   "cell_type": "code",
   "execution_count": 1,
   "metadata": {
    "nbgrader": {
     "grade": false,
     "grade_id": "1b357be508d8db42a5a6a8ce8eb10993",
     "locked": true,
     "schema_version": 3,
     "solution": false,
     "task": false
    }
   },
   "outputs": [],
   "source": [
    "# run this cell without changes\n",
    "import numpy as np\n",
    "from scipy import stats"
   ]
  },
  {
   "cell_type": "markdown",
   "metadata": {
    "nbgrader": {
     "grade": false,
     "grade_id": "63156ae796a5aaac1b56053fdb4e4a4e",
     "locked": true,
     "schema_version": 3,
     "solution": false,
     "task": false
    }
   },
   "source": [
    "### 1. Normal Distributions\n",
    "\n",
    "Say we have check totals for all checks ever written at a TexMex restaurant. \n",
    "\n",
    "The distribution for this population of check totals happens to be normally distributed with a **population mean** of 20 dollars and **population standard deviation** of 3 dollars"
   ]
  },
  {
   "cell_type": "markdown",
   "metadata": {
    "nbgrader": {
     "grade": false,
     "grade_id": "ccc6de3ce819080cd8517a15f08a106f",
     "locked": true,
     "schema_version": 3,
     "solution": false,
     "task": false
    }
   },
   "source": [
    "#### 1a) Compute the z-score for a 26 dollar check. \n",
    "\n",
    "Complete the code in the function below and use it to calculate the answer, and store the answer in `ans1`"
   ]
  },
  {
   "cell_type": "code",
   "execution_count": 2,
   "metadata": {
    "nbgrader": {
     "grade": false,
     "grade_id": "c001464ddf55b36173a9b171aa8f8af0",
     "locked": false,
     "schema_version": 3,
     "solution": true,
     "task": false
    }
   },
   "outputs": [],
   "source": [
    "def z_score(X, mu, sigma):\n",
    "    \"\"\"\n",
    "    Given sample value X, population mean mu, and population\n",
    "    standard deviation sigma, calculate the z-score\n",
    "    \"\"\"\n",
    "    ### BEGIN SOLUTION\n",
    "    return (X - mu)/sigma\n",
    "\n",
    "from test_scripts.test_class import Test\n",
    "test = Test()\n",
    "\n",
    "ans1 = z_score(26, 20, 3)\n",
    "test.save(ans1, \"ans1\")\n",
    "### END SOLUTION\n",
    "\n",
    "# ans1 = None\n",
    "# ^ un-comment and replace None with appropriate code"
   ]
  },
  {
   "cell_type": "code",
   "execution_count": 3,
   "metadata": {
    "nbgrader": {
     "grade": true,
     "grade_id": "cell-435a53ca8292c354",
     "locked": true,
     "points": 1,
     "schema_version": 3,
     "solution": false,
     "task": false
    }
   },
   "outputs": [],
   "source": [
    "# PUT ALL WORK FOR THE ABOVE QUESTION ABOVE THIS CELL\n",
    "# THIS UNALTERABLE CELL CONTAINS HIDDEN TESTS\n",
    "\n",
    "# z_score should return a floating point number\n",
    "assert type(z_score(200, 150, 75)) == float\n",
    "\n",
    "### BEGIN HIDDEN TESTS\n",
    "\n",
    "# Testing the functionality of the z_score function\n",
    "assert z_score(200, 150, 75) == (200-150)/75\n",
    "\n",
    "### END HIDDEN TESTS"
   ]
  },
  {
   "cell_type": "code",
   "execution_count": 4,
   "metadata": {
    "nbgrader": {
     "grade": true,
     "grade_id": "17825a9b46175892f820f4d9c38629d9",
     "locked": true,
     "points": 1,
     "schema_version": 3,
     "solution": false,
     "task": false
    }
   },
   "outputs": [
    {
     "name": "stdout",
     "output_type": "stream",
     "text": [
      "My check has a z-score of 2.0.\n"
     ]
    }
   ],
   "source": [
    "# PUT ALL WORK FOR THE ABOVE QUESTION ABOVE THIS CELL\n",
    "# THIS UNALTERABLE CELL CONTAINS HIDDEN TESTS\n",
    "\n",
    "# Checking that the variable ans1 has been declared\n",
    "print('My check has a z-score of {}.'.format(ans1))\n",
    "\n",
    "### BEGIN HIDDEN TESTS\n",
    "\n",
    "from test_scripts.test_class import Test\n",
    "test = Test()\n",
    "\n",
    "test.run_test(ans1, \"ans1\")\n",
    "\n",
    "### END HIDDEN TESTS"
   ]
  },
  {
   "cell_type": "markdown",
   "metadata": {
    "nbgrader": {
     "grade": false,
     "grade_id": "1dae44d37b7f469a2dfc1a144bcc05a5",
     "locked": true,
     "schema_version": 3,
     "solution": false,
     "task": false
    }
   },
   "source": [
    "#### 1b) Approximately what percentage of all checks are less than 26 dollars? Explain how you came to your answer.\n",
    "\n",
    "You can answer this using the empirical rule or this [z-table](https://www.math.arizona.edu/~rsims/ma464/standardnormaltable.pdf)."
   ]
  },
  {
   "cell_type": "markdown",
   "metadata": {
    "nbgrader": {
     "grade": true,
     "grade_id": "a55d0d4bf2250d6b9a066f5d885ddcec",
     "locked": false,
     "points": 1,
     "schema_version": 3,
     "solution": true,
     "task": false
    }
   },
   "source": [
    "According to the empirical rule, 95% of check amounts will be within \n",
    "about two standard deviations from the mean. A 26 dollar check amount is \n",
    "just at the top end of this region. Adding in the 2.5% of amounts below \n",
    "this region, we get 97.5%\n",
    "\n",
    "Looking up 2.00 in the z-table, we find the answer is 97.7%"
   ]
  },
  {
   "cell_type": "markdown",
   "metadata": {
    "nbgrader": {
     "grade": false,
     "grade_id": "47cfe2ce259b0b0f90427e9c0bd54f5d",
     "locked": true,
     "schema_version": 3,
     "solution": false,
     "task": false
    }
   },
   "source": [
    "### 2. Confidence Intervals"
   ]
  },
  {
   "cell_type": "markdown",
   "metadata": {
    "nbgrader": {
     "grade": false,
     "grade_id": "37400e4cf6fc75815da55abf7874b31e",
     "locked": true,
     "schema_version": 3,
     "solution": false,
     "task": false
    }
   },
   "source": [
    "One night, a waiter gets 15 checks with a **sample mean** of 19 dollars and **sample standard deviation** of 3 dollars"
   ]
  },
  {
   "cell_type": "markdown",
   "metadata": {
    "nbgrader": {
     "grade": false,
     "grade_id": "eab7cdb092c0ff682df3cd6483f88918",
     "locked": true,
     "schema_version": 3,
     "solution": false,
     "task": false
    }
   },
   "source": [
    "#### 2a) Calculate the 95% confidence interval around the mean for this waiter's checks\n",
    "\n",
    "Complete the code in the function below and use it to calculate the answer, and store the answer in `ans2`"
   ]
  },
  {
   "cell_type": "code",
   "execution_count": 5,
   "metadata": {
    "nbgrader": {
     "grade": false,
     "grade_id": "c3706acda824ddcc20173dd5c32bb105",
     "locked": false,
     "schema_version": 3,
     "solution": true,
     "task": false
    }
   },
   "outputs": [],
   "source": [
    "def confidence_interval(x_bar, Z, s, n):\n",
    "    \"\"\"\n",
    "    Given sample mean x_bar, Z-value Z, sample standard\n",
    "    deviation s, and sample count n, calculate the\n",
    "    confidence interval around the sample mean\n",
    "    \n",
    "    This function should return a tuple containing two\n",
    "    numbers\n",
    "    \"\"\"\n",
    "    ### BEGIN SOLUTION\n",
    "    sterr = s/(n**0.5)\n",
    "    return (x_bar - Z*sterr, x_bar + Z*sterr)\n",
    "\n",
    "\n",
    "from test_scripts.test_class import Test\n",
    "test = Test()\n",
    "\n",
    "ans2 = confidence_interval(19, 1.96, 3, 15)\n",
    "\n",
    "test.save(ans2, \"ans2\")\n",
    "\n",
    "### END SOLUTION\n",
    "\n",
    "# ans2 = None\n",
    "# ^ un-comment and replace None with appropriate code"
   ]
  },
  {
   "cell_type": "code",
   "execution_count": 6,
   "metadata": {
    "nbgrader": {
     "grade": true,
     "grade_id": "cell-ba14cdb091fc8d70",
     "locked": true,
     "points": 0.5,
     "schema_version": 3,
     "solution": false,
     "task": false
    }
   },
   "outputs": [],
   "source": [
    "# PUT ALL WORK FOR THE ABOVE QUESTION ABOVE THIS CELL\n",
    "# THIS UNALTERABLE CELL CONTAINS HIDDEN TESTS\n",
    "\n",
    "# confidence_interval should return a tuple\n",
    "assert type(confidence_interval(70, 1.96, 5, 50)) == tuple\n",
    "\n",
    "### BEGIN HIDDEN TESTS\n",
    "\n",
    "assert confidence_interval(70, 1.96, 5, 50) == (70 - 1.96*(5/(50**0.5)), 70 + 1.96*(5/(50**0.5)))\n",
    "\n",
    "### END HIDDEN TESTS"
   ]
  },
  {
   "cell_type": "code",
   "execution_count": 7,
   "metadata": {
    "nbgrader": {
     "grade": true,
     "grade_id": "d2974aa073e5d76955406e30c868ea71",
     "locked": true,
     "points": 0.5,
     "schema_version": 3,
     "solution": false,
     "task": false
    }
   },
   "outputs": [
    {
     "name": "stdout",
     "output_type": "stream",
     "text": [
      "The 95% confidence interval is  (17.48179052828669, 20.51820947171331)\n"
     ]
    }
   ],
   "source": [
    "# PUT ALL WORK FOR THE ABOVE QUESTION ABOVE THIS CELL\n",
    "# THIS UNALTERABLE CELL CONTAINS HIDDEN TESTS\n",
    "\n",
    "# Checking that the variable ans2 has been declared\n",
    "print('The 95% confidence interval is ', ans2)\n",
    "\n",
    "### BEGIN HIDDEN TESTS\n",
    "\n",
    "from test_scripts.test_class import Test\n",
    "test = Test()\n",
    "\n",
    "test.run_test(ans2, \"ans2\")\n",
    "\n",
    "### END HIDDEN TESTS"
   ]
  },
  {
   "cell_type": "markdown",
   "metadata": {
    "nbgrader": {
     "grade": false,
     "grade_id": "03e812f33ac24365045bb3de9945be29",
     "locked": true,
     "schema_version": 3,
     "solution": false,
     "task": false
    }
   },
   "source": [
    "#### 2b) Interpret the result of this confidence interval calculation"
   ]
  },
  {
   "cell_type": "markdown",
   "metadata": {
    "nbgrader": {
     "grade": true,
     "grade_id": "42245231b3f1ade33a22662130b73b39",
     "locked": false,
     "points": 1,
     "schema_version": 3,
     "solution": true,
     "task": false
    }
   },
   "source": [
    "A 95% confidence interval means that, if confidence intervals were generated over and \n",
    "over again, using the same method, 95% of the confidence intervals generated will contain \n",
    "the true population mean. \n",
    "\n",
    "In this case of looking at a single confidence interval, that means we cannot reject\n",
    "the values between 17.5 and 20.5 for estimates of the mean of checks as a whole with \n",
    "an alpha of .05\n",
    "\n",
    "INCORRECT: a .05 alpha confidence interval contains 95% of all values that samples can have.\n",
    "\n",
    "INCORRECT: a .05 alpha confidence interval contains 95% of all values in the population.\n",
    "\n",
    "INCORRECT: there is a 95% chance that the values of the checks the waiter got that \n",
    "night are between 17.5 and 20.5"
   ]
  }
 ],
 "metadata": {
  "celltoolbar": "Create Assignment",
  "kernelspec": {
   "display_name": "Python 3",
   "language": "python",
   "name": "python3"
  },
  "language_info": {
   "codemirror_mode": {
    "name": "ipython",
    "version": 3
   },
   "file_extension": ".py",
   "mimetype": "text/x-python",
   "name": "python",
   "nbconvert_exporter": "python",
   "pygments_lexer": "ipython3",
   "version": "3.8.5"
  },
  "toc": {
   "base_numbering": 1,
   "nav_menu": {},
   "number_sections": true,
   "sideBar": true,
   "skip_h1_title": false,
   "title_cell": "Table of Contents",
   "title_sidebar": "Contents",
   "toc_cell": false,
   "toc_position": {},
   "toc_section_display": true,
   "toc_window_display": false
  }
 },
 "nbformat": 4,
 "nbformat_minor": 4
}
